{
 "cells": [
  {
   "cell_type": "code",
   "execution_count": 1,
   "id": "d82fef8f",
   "metadata": {},
   "outputs": [],
   "source": [
    "import sys\n",
    "import math\n",
    "import json\n",
    "import os\n",
    "from collections import Counter\n",
    "import torch\n",
    "import torch.nn.functional as F\n",
    "from sklearn.metrics import accuracy_score, f1_score\n",
    "from tqdm import tqdm\n",
    "import plotly.graph_objects as go\n",
    "from microbert.model import MicroBERTForClassification\n",
    "from microbert.tokenizer import WordTokenizer\n",
    "from microbert.utils import IMDBDataloader, get_attention_scores, plot_parallel, plot_results, save_model, load_model\n",
    "from hiq.vis import print_model"
   ]
  },
  {
   "cell_type": "code",
   "execution_count": 2,
   "id": "ebd1767f",
   "metadata": {},
   "outputs": [],
   "source": [
    "NUM_EPOCHS = 100\n",
    "BATCH_SIZE = 32\n",
    "MAX_SEQ_LEN = 128\n",
    "LEARNING_RATE = 1e-4\n",
    "\n",
    "device = torch.device('cuda' if torch.cuda.is_available() else 'cpu')\n",
    "\n",
    "# Check if trained model already exists\n",
    "home_dir = os.path.expanduser('~')\n",
    "model_save_dir = os.path.join(home_dir, '.microbert_model')"
   ]
  },
  {
   "cell_type": "code",
   "execution_count": 3,
   "id": "5e127db5",
   "metadata": {},
   "outputs": [
    {
     "name": "stderr",
     "output_type": "stream",
     "text": [
      "Train Tokenization: 100%|██████████| 20000/20000 [00:00<00:00, 22395.91it/s]\n",
      "Test Tokenization: 100%|██████████| 25000/25000 [00:00<00:00, 43359.90it/s]\n",
      "Val Tokenization: 100%|██████████| 5000/5000 [00:00<00:00, 39578.61it/s]\n",
      "Train Label Encoding: 100%|██████████| 20000/20000 [00:00<00:00, 6315771.72it/s]\n",
      "Test Label Encoding: 100%|██████████| 25000/25000 [00:00<00:00, 7483948.33it/s]\n",
      "Val Label Encoding: 100%|██████████| 5000/5000 [00:00<00:00, 6204591.72it/s]\n"
     ]
    }
   ],
   "source": [
    "\n",
    "data = None\n",
    "with open('imdb_train.json') as f:\n",
    "    data = [json.loads(l) for l in f.readlines()]\n",
    "\n",
    "vocab = set()\n",
    "for d in data:\n",
    "    vocab |= set([w.lower() for w in d['text']])\n",
    "\n",
    "test_data = None\n",
    "with open('imdb_test.json') as f:\n",
    "   test_data = [json.loads(l) for l in f.readlines()]\n",
    "\n",
    "def encode_label(label):\n",
    "    if label == 'pos':\n",
    "        return 1\n",
    "    elif label == 'neg':\n",
    "        return 0\n",
    "    raise Exception(f'Unknown Label: {label}!')\n",
    "\n",
    "\n",
    "tokenizer = WordTokenizer(vocab=vocab, max_seq_len=MAX_SEQ_LEN)\n",
    "dataloader = IMDBDataloader(data, test_data, tokenizer, encode_label, batch_size=BATCH_SIZE)"
   ]
  },
  {
   "cell_type": "code",
   "execution_count": 4,
   "id": "1f13ac47",
   "metadata": {},
   "outputs": [
    {
     "data": {
      "text/html": [
       "<pre style=\"white-space:pre;overflow-x:auto;line-height:normal;font-family:Menlo,'DejaVu Sans Mono',consolas,'Courier New',monospace\"><span style=\"color: #808000; text-decoration-color: #808000\">🌳 MicroBERTForClassification&lt;all params:755480&gt;</span>\n",
       "<span style=\"color: #00afaf; text-decoration-color: #00afaf\">├── </span><span style=\"color: #008000; text-decoration-color: #008000\">MicroBERT</span><span style=\"color: #808000; text-decoration-color: #808000\">(micro_bert)</span>\n",
       "<span style=\"color: #00afaf; text-decoration-color: #00afaf\">│   ├── </span><span style=\"color: #008000; text-decoration-color: #008000\">BertEmbeddings</span><span style=\"color: #808000; text-decoration-color: #808000\">(embedding)</span>\n",
       "<span style=\"color: #00afaf; text-decoration-color: #00afaf\">│   │   ├── </span><span style=\"color: #008000; text-decoration-color: #008000\">Embedding</span><span style=\"color: #808000; text-decoration-color: #808000\">(word_embeddings)|</span><span style=\"color: #0000ff; text-decoration-color: #0000ff\">weight[251641,3]</span>\n",
       "<span style=\"color: #00afaf; text-decoration-color: #00afaf\">│   │   ├── </span><span style=\"color: #008000; text-decoration-color: #008000\">Embedding</span><span style=\"color: #808000; text-decoration-color: #808000\">(pos_embeddings)|</span><span style=\"color: #0000ff; text-decoration-color: #0000ff\">weight[128,3]</span>\n",
       "<span style=\"color: #00afaf; text-decoration-color: #00afaf\">│   │   └── </span><span style=\"color: #008000; text-decoration-color: #008000\">LayerNorm</span><span style=\"color: #808000; text-decoration-color: #808000\">(layer_norm)|</span><span style=\"color: #0000ff; text-decoration-color: #0000ff\">weight[3]|bias[3]</span>\n",
       "<span style=\"color: #00afaf; text-decoration-color: #00afaf\">│   ├── </span><span style=\"color: #008000; text-decoration-color: #008000\">BertEncoder</span><span style=\"color: #808000; text-decoration-color: #808000\">(encoder)</span>\n",
       "<span style=\"color: #00afaf; text-decoration-color: #00afaf\">│   │   └── </span><span style=\"color: #008000; text-decoration-color: #008000\">ModuleList</span><span style=\"color: #808000; text-decoration-color: #808000\">(layers)</span>\n",
       "<span style=\"color: #00afaf; text-decoration-color: #00afaf\">│   │       └── </span><span style=\"color: #008000; text-decoration-color: #008000\">BertLayer</span><span style=\"color: #808000; text-decoration-color: #808000\">(0)</span>\n",
       "<span style=\"color: #00afaf; text-decoration-color: #00afaf\">│   │           ├── </span>💠 <a href=\"/home/wukong/miniconda3/envs/genaibook/lib/python3.10/site-packages/torch/nn/modules/normalization.py\" target=\"_blank\"><span style=\"color: #ff00ff; text-decoration-color: #ff00ff; font-weight: bold\">LayerNorm</span></a><a href=\"/home/wukong/miniconda3/envs/genaibook/lib/python3.10/site-packages/torch/nn/modules/normalization.py\" target=\"_blank\"><span style=\"color: #008000; text-decoration-color: #008000\">(layer_norm1,layer_norm2)&lt;🦜:6x2&gt;|</span></a><a href=\"/home/wukong/miniconda3/envs/genaibook/lib/python3.10/site-packages/torch/nn/modules/normalization.py\" target=\"_blank\"><span style=\"color: #0000ff; text-decoration-color: #0000ff\">weight[3]|bias[3]</span></a>\n",
       "<span style=\"color: #00afaf; text-decoration-color: #00afaf\">│   │           ├── </span><span style=\"color: #008000; text-decoration-color: #008000\">BertSelfAttention</span><span style=\"color: #808000; text-decoration-color: #808000\">(self_attention)</span>\n",
       "<span style=\"color: #00afaf; text-decoration-color: #00afaf\">│   │           │   ├── </span><span style=\"color: #008000; text-decoration-color: #008000\">ModuleList</span><span style=\"color: #808000; text-decoration-color: #808000\">(heads)</span>\n",
       "<span style=\"color: #00afaf; text-decoration-color: #00afaf\">│   │           │   │   └── </span><span style=\"color: #008000; text-decoration-color: #008000\">BertAttentionHead</span><span style=\"color: #808000; text-decoration-color: #808000\">(0)</span>\n",
       "<span style=\"color: #00afaf; text-decoration-color: #00afaf\">│   │           │   │       └── </span>💠 <a href=\"/home/wukong/miniconda3/envs/genaibook/lib/python3.10/site-packages/torch/nn/modules/linear.py\" target=\"_blank\"><span style=\"color: #ff00ff; text-decoration-color: #ff00ff; font-weight: bold\">Linear</span></a><a href=\"/home/wukong/miniconda3/envs/genaibook/lib/python3.10/site-packages/torch/nn/modules/linear.py\" target=\"_blank\"><span style=\"color: #008000; text-decoration-color: #008000\">(query,key,values)&lt;🦜:12x3&gt;|</span></a><a href=\"/home/wukong/miniconda3/envs/genaibook/lib/python3.10/site-packages/torch/nn/modules/linear.py\" target=\"_blank\"><span style=\"color: #0000ff; text-decoration-color: #0000ff\">weight[3,3]|bias[3]</span></a>\n",
       "<span style=\"color: #00afaf; text-decoration-color: #00afaf\">│   │           │   └── </span><span style=\"color: #008000; text-decoration-color: #008000\">Linear</span><span style=\"color: #808000; text-decoration-color: #808000\">(proj)|</span><span style=\"color: #0000ff; text-decoration-color: #0000ff\">weight[3,3]|bias[3]</span>\n",
       "<span style=\"color: #00afaf; text-decoration-color: #00afaf\">│   │           └── </span><span style=\"color: #008000; text-decoration-color: #008000\">FeedForward</span><span style=\"color: #808000; text-decoration-color: #808000\">(feed_forward)</span>\n",
       "<span style=\"color: #00afaf; text-decoration-color: #00afaf\">│   │               └── </span><span style=\"color: #008000; text-decoration-color: #008000\">Sequential</span><span style=\"color: #808000; text-decoration-color: #808000\">(ffwd)</span>\n",
       "<span style=\"color: #00afaf; text-decoration-color: #00afaf\">│   │                   ├── </span><span style=\"color: #008000; text-decoration-color: #008000\">Linear</span><span style=\"color: #808000; text-decoration-color: #808000\">(0)|</span><span style=\"color: #0000ff; text-decoration-color: #0000ff\">weight[12,3]|bias[12]</span>\n",
       "<span style=\"color: #00afaf; text-decoration-color: #00afaf\">│   │                   └── </span><span style=\"color: #008000; text-decoration-color: #008000\">Linear</span><span style=\"color: #808000; text-decoration-color: #808000\">(2)|</span><span style=\"color: #0000ff; text-decoration-color: #0000ff\">weight[3,12]|bias[3]</span>\n",
       "<span style=\"color: #00afaf; text-decoration-color: #00afaf\">│   └── </span><span style=\"color: #008000; text-decoration-color: #008000\">BertPooler</span><span style=\"color: #808000; text-decoration-color: #808000\">(pooler)</span>\n",
       "<span style=\"color: #00afaf; text-decoration-color: #00afaf\">│       └── </span><span style=\"color: #008000; text-decoration-color: #008000\">Linear</span><span style=\"color: #808000; text-decoration-color: #808000\">(dense)|</span><span style=\"color: #0000ff; text-decoration-color: #0000ff\">weight[3,3]|bias[3]</span>\n",
       "<span style=\"color: #00afaf; text-decoration-color: #00afaf\">└── </span><span style=\"color: #008000; text-decoration-color: #008000\">Linear</span><span style=\"color: #808000; text-decoration-color: #808000\">(classifier)|</span><span style=\"color: #0000ff; text-decoration-color: #0000ff\">weight[2,3]|bias[2]</span>\n",
       "</pre>\n"
      ],
      "text/plain": [
       "\u001b[33m🌳 MicroBERTForClassification<all params:755480>\u001b[0m\n",
       "\u001b[38;5;37m├── \u001b[0m\u001b[32mMicroBERT\u001b[0m\u001b[33m(micro_bert)\u001b[0m\n",
       "\u001b[38;5;37m│   \u001b[0m\u001b[38;5;37m├── \u001b[0m\u001b[32mBertEmbeddings\u001b[0m\u001b[33m(embedding)\u001b[0m\n",
       "\u001b[38;5;37m│   \u001b[0m\u001b[38;5;37m│   \u001b[0m\u001b[38;5;37m├── \u001b[0m\u001b[32mEmbedding\u001b[0m\u001b[33m(word_embeddings)|\u001b[0m\u001b[94mweight[251641,3]\u001b[0m\n",
       "\u001b[38;5;37m│   \u001b[0m\u001b[38;5;37m│   \u001b[0m\u001b[38;5;37m├── \u001b[0m\u001b[32mEmbedding\u001b[0m\u001b[33m(pos_embeddings)|\u001b[0m\u001b[94mweight[128,3]\u001b[0m\n",
       "\u001b[38;5;37m│   \u001b[0m\u001b[38;5;37m│   \u001b[0m\u001b[38;5;37m└── \u001b[0m\u001b[32mLayerNorm\u001b[0m\u001b[33m(layer_norm)|\u001b[0m\u001b[94mweight[3]|\u001b[0m\u001b[94mbias[3]\u001b[0m\n",
       "\u001b[38;5;37m│   \u001b[0m\u001b[38;5;37m├── \u001b[0m\u001b[32mBertEncoder\u001b[0m\u001b[33m(encoder)\u001b[0m\n",
       "\u001b[38;5;37m│   \u001b[0m\u001b[38;5;37m│   \u001b[0m\u001b[38;5;37m└── \u001b[0m\u001b[32mModuleList\u001b[0m\u001b[33m(layers)\u001b[0m\n",
       "\u001b[38;5;37m│   \u001b[0m\u001b[38;5;37m│   \u001b[0m\u001b[38;5;37m    \u001b[0m\u001b[38;5;37m└── \u001b[0m\u001b[32mBertLayer\u001b[0m\u001b[33m(0)\u001b[0m\n",
       "\u001b[38;5;37m│   \u001b[0m\u001b[38;5;37m│   \u001b[0m\u001b[38;5;37m    \u001b[0m\u001b[38;5;37m    \u001b[0m\u001b[38;5;37m├── \u001b[0m💠 \u001b]8;id=21224;/home/wukong/miniconda3/envs/genaibook/lib/python3.10/site-packages/torch/nn/modules/normalization.py\u001b\\\u001b[1;38;5;201mLayerNorm\u001b[0m\u001b]8;;\u001b\\\u001b]8;id=811268;/home/wukong/miniconda3/envs/genaibook/lib/python3.10/site-packages/torch/nn/modules/normalization.py\u001b\\\u001b[32m(layer_norm1,layer_norm2)<🦜:6x2>|\u001b[0m\u001b]8;;\u001b\\\u001b]8;id=250392;/home/wukong/miniconda3/envs/genaibook/lib/python3.10/site-packages/torch/nn/modules/normalization.py\u001b\\\u001b[94mweight[3]|\u001b[0m\u001b]8;;\u001b\\\u001b]8;id=736691;/home/wukong/miniconda3/envs/genaibook/lib/python3.10/site-packages/torch/nn/modules/normalization.py\u001b\\\u001b[94mbias[3]\u001b[0m\u001b]8;;\u001b\\\n",
       "\u001b[38;5;37m│   \u001b[0m\u001b[38;5;37m│   \u001b[0m\u001b[38;5;37m    \u001b[0m\u001b[38;5;37m    \u001b[0m\u001b[38;5;37m├── \u001b[0m\u001b[32mBertSelfAttention\u001b[0m\u001b[33m(self_attention)\u001b[0m\n",
       "\u001b[38;5;37m│   \u001b[0m\u001b[38;5;37m│   \u001b[0m\u001b[38;5;37m    \u001b[0m\u001b[38;5;37m    \u001b[0m\u001b[38;5;37m│   \u001b[0m\u001b[38;5;37m├── \u001b[0m\u001b[32mModuleList\u001b[0m\u001b[33m(heads)\u001b[0m\n",
       "\u001b[38;5;37m│   \u001b[0m\u001b[38;5;37m│   \u001b[0m\u001b[38;5;37m    \u001b[0m\u001b[38;5;37m    \u001b[0m\u001b[38;5;37m│   \u001b[0m\u001b[38;5;37m│   \u001b[0m\u001b[38;5;37m└── \u001b[0m\u001b[32mBertAttentionHead\u001b[0m\u001b[33m(0)\u001b[0m\n",
       "\u001b[38;5;37m│   \u001b[0m\u001b[38;5;37m│   \u001b[0m\u001b[38;5;37m    \u001b[0m\u001b[38;5;37m    \u001b[0m\u001b[38;5;37m│   \u001b[0m\u001b[38;5;37m│   \u001b[0m\u001b[38;5;37m    \u001b[0m\u001b[38;5;37m└── \u001b[0m💠 \u001b]8;id=665292;/home/wukong/miniconda3/envs/genaibook/lib/python3.10/site-packages/torch/nn/modules/linear.py\u001b\\\u001b[1;38;5;201mLinear\u001b[0m\u001b]8;;\u001b\\\u001b]8;id=619344;/home/wukong/miniconda3/envs/genaibook/lib/python3.10/site-packages/torch/nn/modules/linear.py\u001b\\\u001b[32m(query,key,values)<🦜:12x3>|\u001b[0m\u001b]8;;\u001b\\\u001b]8;id=229814;/home/wukong/miniconda3/envs/genaibook/lib/python3.10/site-packages/torch/nn/modules/linear.py\u001b\\\u001b[94mweight[3,3]|\u001b[0m\u001b]8;;\u001b\\\u001b]8;id=532286;/home/wukong/miniconda3/envs/genaibook/lib/python3.10/site-packages/torch/nn/modules/linear.py\u001b\\\u001b[94mbias[3]\u001b[0m\u001b]8;;\u001b\\\n",
       "\u001b[38;5;37m│   \u001b[0m\u001b[38;5;37m│   \u001b[0m\u001b[38;5;37m    \u001b[0m\u001b[38;5;37m    \u001b[0m\u001b[38;5;37m│   \u001b[0m\u001b[38;5;37m└── \u001b[0m\u001b[32mLinear\u001b[0m\u001b[33m(proj)|\u001b[0m\u001b[94mweight[3,3]|\u001b[0m\u001b[94mbias[3]\u001b[0m\n",
       "\u001b[38;5;37m│   \u001b[0m\u001b[38;5;37m│   \u001b[0m\u001b[38;5;37m    \u001b[0m\u001b[38;5;37m    \u001b[0m\u001b[38;5;37m└── \u001b[0m\u001b[32mFeedForward\u001b[0m\u001b[33m(feed_forward)\u001b[0m\n",
       "\u001b[38;5;37m│   \u001b[0m\u001b[38;5;37m│   \u001b[0m\u001b[38;5;37m    \u001b[0m\u001b[38;5;37m    \u001b[0m\u001b[38;5;37m    \u001b[0m\u001b[38;5;37m└── \u001b[0m\u001b[32mSequential\u001b[0m\u001b[33m(ffwd)\u001b[0m\n",
       "\u001b[38;5;37m│   \u001b[0m\u001b[38;5;37m│   \u001b[0m\u001b[38;5;37m    \u001b[0m\u001b[38;5;37m    \u001b[0m\u001b[38;5;37m    \u001b[0m\u001b[38;5;37m    \u001b[0m\u001b[38;5;37m├── \u001b[0m\u001b[32mLinear\u001b[0m\u001b[33m(0)|\u001b[0m\u001b[94mweight[12,3]|\u001b[0m\u001b[94mbias[12]\u001b[0m\n",
       "\u001b[38;5;37m│   \u001b[0m\u001b[38;5;37m│   \u001b[0m\u001b[38;5;37m    \u001b[0m\u001b[38;5;37m    \u001b[0m\u001b[38;5;37m    \u001b[0m\u001b[38;5;37m    \u001b[0m\u001b[38;5;37m└── \u001b[0m\u001b[32mLinear\u001b[0m\u001b[33m(2)|\u001b[0m\u001b[94mweight[3,12]|\u001b[0m\u001b[94mbias[3]\u001b[0m\n",
       "\u001b[38;5;37m│   \u001b[0m\u001b[38;5;37m└── \u001b[0m\u001b[32mBertPooler\u001b[0m\u001b[33m(pooler)\u001b[0m\n",
       "\u001b[38;5;37m│   \u001b[0m\u001b[38;5;37m    \u001b[0m\u001b[38;5;37m└── \u001b[0m\u001b[32mLinear\u001b[0m\u001b[33m(dense)|\u001b[0m\u001b[94mweight[3,3]|\u001b[0m\u001b[94mbias[3]\u001b[0m\n",
       "\u001b[38;5;37m└── \u001b[0m\u001b[32mLinear\u001b[0m\u001b[33m(classifier)|\u001b[0m\u001b[94mweight[2,3]|\u001b[0m\u001b[94mbias[2]\u001b[0m\n"
      ]
     },
     "metadata": {},
     "output_type": "display_data"
    }
   ],
   "source": [
    "n_layers, n_embed, n_heads = 1, 3, 1\n",
    "bert = MicroBERTForClassification(\n",
    "    vocab_size=len(tokenizer.vocab),\n",
    "    n_layers=n_layers,\n",
    "    n_heads=n_heads,\n",
    "    n_embed=n_embed,\n",
    "    max_seq_len=MAX_SEQ_LEN,\n",
    "    n_classes=2\n",
    ").to(device)\n",
    "\n",
    "print_model(bert)\n"
   ]
  },
  {
   "cell_type": "code",
   "execution_count": 8,
   "id": "5940be91",
   "metadata": {},
   "outputs": [
    {
     "name": "stdout",
     "output_type": "stream",
     "text": [
      "Epoch: 1\n"
     ]
    },
    {
     "name": "stderr",
     "output_type": "stream",
     "text": [
      "100%|██████████| 625/625 [00:01<00:00, 350.15it/s]\n",
      "157it [00:00, 837.87it/s]                        \n"
     ]
    },
    {
     "name": "stdout",
     "output_type": "stream",
     "text": [
      "Epoch 1 - Train Loss: 0.5110518543720245, Val Loss: 0.637394571915651\n",
      "Train Acc: 0.75695, Val Acc: 0.665\n",
      "Train F1: 0.7523562076519437, Val F1: 0.659206510681587\n",
      "Epoch: 2\n"
     ]
    },
    {
     "name": "stderr",
     "output_type": "stream",
     "text": [
      "100%|██████████| 625/625 [00:01<00:00, 370.33it/s]\n",
      "157it [00:00, 893.10it/s]                        \n"
     ]
    },
    {
     "name": "stdout",
     "output_type": "stream",
     "text": [
      "Epoch: 3\n"
     ]
    },
    {
     "name": "stderr",
     "output_type": "stream",
     "text": [
      "100%|██████████| 625/625 [00:01<00:00, 364.61it/s]\n",
      "157it [00:00, 943.38it/s]                          \n"
     ]
    },
    {
     "name": "stdout",
     "output_type": "stream",
     "text": [
      "Epoch: 4\n"
     ]
    },
    {
     "name": "stderr",
     "output_type": "stream",
     "text": [
      "100%|██████████| 625/625 [00:01<00:00, 366.53it/s]\n",
      "157it [00:00, 871.74it/s]                        \n"
     ]
    },
    {
     "name": "stdout",
     "output_type": "stream",
     "text": [
      "Epoch: 5\n"
     ]
    },
    {
     "name": "stderr",
     "output_type": "stream",
     "text": [
      "100%|██████████| 625/625 [00:01<00:00, 363.40it/s]\n",
      "157it [00:00, 873.84it/s]                        \n"
     ]
    },
    {
     "name": "stdout",
     "output_type": "stream",
     "text": [
      "Epoch: 6\n"
     ]
    },
    {
     "name": "stderr",
     "output_type": "stream",
     "text": [
      "100%|██████████| 625/625 [00:01<00:00, 320.84it/s]\n",
      "157it [00:00, 838.68it/s]                        \n"
     ]
    },
    {
     "name": "stdout",
     "output_type": "stream",
     "text": [
      "Epoch: 7\n"
     ]
    },
    {
     "name": "stderr",
     "output_type": "stream",
     "text": [
      "100%|██████████| 625/625 [00:01<00:00, 360.30it/s]\n",
      "157it [00:00, 846.62it/s]                        \n"
     ]
    },
    {
     "name": "stdout",
     "output_type": "stream",
     "text": [
      "Epoch: 8\n"
     ]
    },
    {
     "name": "stderr",
     "output_type": "stream",
     "text": [
      "100%|██████████| 625/625 [00:01<00:00, 374.34it/s]\n",
      "157it [00:00, 961.56it/s]                          \n"
     ]
    },
    {
     "name": "stdout",
     "output_type": "stream",
     "text": [
      "Epoch: 9\n"
     ]
    },
    {
     "name": "stderr",
     "output_type": "stream",
     "text": [
      "100%|██████████| 625/625 [00:01<00:00, 389.80it/s]\n",
      "157it [00:00, 965.79it/s]                        \n"
     ]
    },
    {
     "name": "stdout",
     "output_type": "stream",
     "text": [
      "Epoch: 10\n"
     ]
    },
    {
     "name": "stderr",
     "output_type": "stream",
     "text": [
      "100%|██████████| 625/625 [00:01<00:00, 349.62it/s]\n",
      "157it [00:00, 851.61it/s]                        \n"
     ]
    },
    {
     "name": "stdout",
     "output_type": "stream",
     "text": [
      "Epoch: 11\n"
     ]
    },
    {
     "name": "stderr",
     "output_type": "stream",
     "text": [
      "100%|██████████| 625/625 [00:01<00:00, 346.04it/s]\n",
      "157it [00:00, 847.34it/s]                        \n"
     ]
    },
    {
     "name": "stdout",
     "output_type": "stream",
     "text": [
      "Epoch: 12\n"
     ]
    },
    {
     "name": "stderr",
     "output_type": "stream",
     "text": [
      "100%|██████████| 625/625 [00:01<00:00, 360.31it/s]\n",
      "157it [00:00, 883.79it/s]                        \n"
     ]
    },
    {
     "name": "stdout",
     "output_type": "stream",
     "text": [
      "Epoch: 13\n"
     ]
    },
    {
     "name": "stderr",
     "output_type": "stream",
     "text": [
      "100%|██████████| 625/625 [00:01<00:00, 347.83it/s]\n",
      "157it [00:00, 860.20it/s]                        \n"
     ]
    },
    {
     "name": "stdout",
     "output_type": "stream",
     "text": [
      "Epoch: 14\n"
     ]
    },
    {
     "name": "stderr",
     "output_type": "stream",
     "text": [
      "100%|██████████| 625/625 [00:01<00:00, 373.31it/s]\n",
      "157it [00:00, 916.63it/s]                        \n"
     ]
    },
    {
     "name": "stdout",
     "output_type": "stream",
     "text": [
      "Epoch: 15\n"
     ]
    },
    {
     "name": "stderr",
     "output_type": "stream",
     "text": [
      "100%|██████████| 625/625 [00:01<00:00, 353.94it/s]\n",
      "157it [00:00, 833.87it/s]                        \n"
     ]
    },
    {
     "name": "stdout",
     "output_type": "stream",
     "text": [
      "Epoch: 16\n"
     ]
    },
    {
     "name": "stderr",
     "output_type": "stream",
     "text": [
      "100%|██████████| 625/625 [00:01<00:00, 368.36it/s]\n",
      "157it [00:00, 893.97it/s]                        \n"
     ]
    },
    {
     "name": "stdout",
     "output_type": "stream",
     "text": [
      "Epoch: 17\n"
     ]
    },
    {
     "name": "stderr",
     "output_type": "stream",
     "text": [
      "100%|██████████| 625/625 [00:01<00:00, 364.56it/s]\n",
      "157it [00:00, 860.28it/s]                        \n"
     ]
    },
    {
     "name": "stdout",
     "output_type": "stream",
     "text": [
      "Epoch: 18\n"
     ]
    },
    {
     "name": "stderr",
     "output_type": "stream",
     "text": [
      "100%|██████████| 625/625 [00:01<00:00, 372.95it/s]\n",
      "157it [00:00, 1134.39it/s]                         \n"
     ]
    },
    {
     "name": "stdout",
     "output_type": "stream",
     "text": [
      "Epoch: 19\n"
     ]
    },
    {
     "name": "stderr",
     "output_type": "stream",
     "text": [
      "100%|██████████| 625/625 [00:01<00:00, 376.31it/s]\n",
      "157it [00:00, 865.41it/s]                        \n"
     ]
    },
    {
     "name": "stdout",
     "output_type": "stream",
     "text": [
      "Epoch: 20\n"
     ]
    },
    {
     "name": "stderr",
     "output_type": "stream",
     "text": [
      "100%|██████████| 625/625 [00:01<00:00, 377.18it/s]\n",
      "157it [00:00, 864.99it/s]                        \n"
     ]
    },
    {
     "name": "stdout",
     "output_type": "stream",
     "text": [
      "Epoch: 21\n"
     ]
    },
    {
     "name": "stderr",
     "output_type": "stream",
     "text": [
      "100%|██████████| 625/625 [00:01<00:00, 372.74it/s]\n",
      "157it [00:00, 1011.01it/s]                         \n"
     ]
    },
    {
     "name": "stdout",
     "output_type": "stream",
     "text": [
      "Epoch 21 - Train Loss: 0.4632279164791107, Val Loss: 0.6347890452314646\n",
      "Train Acc: 0.7889, Val Acc: 0.675\n",
      "Train F1: 0.7859026369168356, Val F1: 0.6701846965699209\n",
      "Epoch: 22\n"
     ]
    },
    {
     "name": "stderr",
     "output_type": "stream",
     "text": [
      "100%|██████████| 625/625 [00:01<00:00, 325.05it/s]\n",
      "157it [00:00, 840.05it/s]                        \n"
     ]
    },
    {
     "name": "stdout",
     "output_type": "stream",
     "text": [
      "Epoch: 23\n"
     ]
    },
    {
     "name": "stderr",
     "output_type": "stream",
     "text": [
      "100%|██████████| 625/625 [00:01<00:00, 347.22it/s]\n",
      "157it [00:00, 851.26it/s]                        \n"
     ]
    },
    {
     "name": "stdout",
     "output_type": "stream",
     "text": [
      "Epoch: 24\n"
     ]
    },
    {
     "name": "stderr",
     "output_type": "stream",
     "text": [
      "100%|██████████| 625/625 [00:01<00:00, 372.25it/s]\n",
      "157it [00:00, 735.80it/s]                        \n"
     ]
    },
    {
     "name": "stdout",
     "output_type": "stream",
     "text": [
      "Epoch: 25\n"
     ]
    },
    {
     "name": "stderr",
     "output_type": "stream",
     "text": [
      "100%|██████████| 625/625 [00:01<00:00, 420.64it/s]\n",
      "157it [00:00, 1112.64it/s]                         \n"
     ]
    },
    {
     "name": "stdout",
     "output_type": "stream",
     "text": [
      "Epoch: 26\n"
     ]
    },
    {
     "name": "stderr",
     "output_type": "stream",
     "text": [
      "100%|██████████| 625/625 [00:01<00:00, 392.34it/s]\n",
      "157it [00:00, 844.31it/s]                        \n"
     ]
    },
    {
     "name": "stdout",
     "output_type": "stream",
     "text": [
      "Epoch: 27\n"
     ]
    },
    {
     "name": "stderr",
     "output_type": "stream",
     "text": [
      "100%|██████████| 625/625 [00:01<00:00, 326.38it/s]\n",
      "157it [00:00, 880.91it/s]                        \n"
     ]
    },
    {
     "name": "stdout",
     "output_type": "stream",
     "text": [
      "Epoch: 28\n"
     ]
    },
    {
     "name": "stderr",
     "output_type": "stream",
     "text": [
      "100%|██████████| 625/625 [00:01<00:00, 335.54it/s]\n",
      "157it [00:00, 867.87it/s]                        \n"
     ]
    },
    {
     "name": "stdout",
     "output_type": "stream",
     "text": [
      "Epoch: 29\n"
     ]
    },
    {
     "name": "stderr",
     "output_type": "stream",
     "text": [
      "100%|██████████| 625/625 [00:01<00:00, 329.98it/s]\n",
      "157it [00:00, 831.71it/s]                        \n"
     ]
    },
    {
     "name": "stdout",
     "output_type": "stream",
     "text": [
      "Epoch: 30\n"
     ]
    },
    {
     "name": "stderr",
     "output_type": "stream",
     "text": [
      "100%|██████████| 625/625 [00:01<00:00, 361.28it/s]\n",
      "157it [00:00, 833.86it/s]                        \n"
     ]
    },
    {
     "name": "stdout",
     "output_type": "stream",
     "text": [
      "Epoch: 31\n"
     ]
    },
    {
     "name": "stderr",
     "output_type": "stream",
     "text": [
      "100%|██████████| 625/625 [00:01<00:00, 364.03it/s]\n",
      "157it [00:00, 868.48it/s]                        \n"
     ]
    },
    {
     "name": "stdout",
     "output_type": "stream",
     "text": [
      "Epoch: 32\n"
     ]
    },
    {
     "name": "stderr",
     "output_type": "stream",
     "text": [
      "100%|██████████| 625/625 [00:01<00:00, 345.08it/s]\n",
      "157it [00:00, 843.66it/s]                        \n"
     ]
    },
    {
     "name": "stdout",
     "output_type": "stream",
     "text": [
      "Epoch: 33\n"
     ]
    },
    {
     "name": "stderr",
     "output_type": "stream",
     "text": [
      "100%|██████████| 625/625 [00:01<00:00, 369.36it/s]\n",
      "157it [00:00, 842.09it/s]                        \n"
     ]
    },
    {
     "name": "stdout",
     "output_type": "stream",
     "text": [
      "Epoch: 34\n"
     ]
    },
    {
     "name": "stderr",
     "output_type": "stream",
     "text": [
      "100%|██████████| 625/625 [00:01<00:00, 343.34it/s]\n",
      "157it [00:00, 868.84it/s]                        \n"
     ]
    },
    {
     "name": "stdout",
     "output_type": "stream",
     "text": [
      "Epoch: 35\n"
     ]
    },
    {
     "name": "stderr",
     "output_type": "stream",
     "text": [
      "100%|██████████| 625/625 [00:01<00:00, 387.54it/s]\n",
      "157it [00:00, 843.34it/s]                        \n"
     ]
    },
    {
     "name": "stdout",
     "output_type": "stream",
     "text": [
      "Epoch: 36\n"
     ]
    },
    {
     "name": "stderr",
     "output_type": "stream",
     "text": [
      "100%|██████████| 625/625 [00:01<00:00, 427.69it/s]\n",
      "157it [00:00, 1073.85it/s]                         \n"
     ]
    },
    {
     "name": "stdout",
     "output_type": "stream",
     "text": [
      "Epoch: 37\n"
     ]
    },
    {
     "name": "stderr",
     "output_type": "stream",
     "text": [
      "100%|██████████| 625/625 [00:01<00:00, 381.01it/s]\n",
      "157it [00:00, 919.60it/s]                        \n"
     ]
    },
    {
     "name": "stdout",
     "output_type": "stream",
     "text": [
      "Epoch: 38\n"
     ]
    },
    {
     "name": "stderr",
     "output_type": "stream",
     "text": [
      "100%|██████████| 625/625 [00:01<00:00, 339.99it/s]\n",
      "157it [00:00, 883.31it/s]                        \n"
     ]
    },
    {
     "name": "stdout",
     "output_type": "stream",
     "text": [
      "Epoch: 39\n"
     ]
    },
    {
     "name": "stderr",
     "output_type": "stream",
     "text": [
      "100%|██████████| 625/625 [00:01<00:00, 397.74it/s]\n",
      "157it [00:00, 1010.45it/s]                         \n"
     ]
    },
    {
     "name": "stdout",
     "output_type": "stream",
     "text": [
      "Epoch: 40\n"
     ]
    },
    {
     "name": "stderr",
     "output_type": "stream",
     "text": [
      "100%|██████████| 625/625 [00:01<00:00, 375.81it/s]\n",
      "157it [00:00, 847.64it/s]                        \n"
     ]
    },
    {
     "name": "stdout",
     "output_type": "stream",
     "text": [
      "Epoch: 41\n"
     ]
    },
    {
     "name": "stderr",
     "output_type": "stream",
     "text": [
      "100%|██████████| 625/625 [00:01<00:00, 353.15it/s]\n",
      "157it [00:00, 862.07it/s]                        \n"
     ]
    },
    {
     "name": "stdout",
     "output_type": "stream",
     "text": [
      "Epoch 41 - Train Loss: 0.4225197459459305, Val Loss: 0.636601329040833\n",
      "Train Acc: 0.8148, Val Acc: 0.6854\n",
      "Train F1: 0.8119987818495583, Val F1: 0.6824146981627296\n",
      "Epoch: 42\n"
     ]
    },
    {
     "name": "stderr",
     "output_type": "stream",
     "text": [
      "100%|██████████| 625/625 [00:01<00:00, 350.63it/s]\n",
      "157it [00:00, 1004.72it/s]                         \n"
     ]
    },
    {
     "name": "stdout",
     "output_type": "stream",
     "text": [
      "Epoch: 43\n"
     ]
    },
    {
     "name": "stderr",
     "output_type": "stream",
     "text": [
      "100%|██████████| 625/625 [00:01<00:00, 346.16it/s]\n",
      "157it [00:00, 866.41it/s]                        \n"
     ]
    },
    {
     "name": "stdout",
     "output_type": "stream",
     "text": [
      "Epoch: 44\n"
     ]
    },
    {
     "name": "stderr",
     "output_type": "stream",
     "text": [
      "100%|██████████| 625/625 [00:01<00:00, 371.00it/s]\n",
      "157it [00:00, 817.55it/s]                        \n"
     ]
    },
    {
     "name": "stdout",
     "output_type": "stream",
     "text": [
      "Epoch: 45\n"
     ]
    },
    {
     "name": "stderr",
     "output_type": "stream",
     "text": [
      "100%|██████████| 625/625 [00:01<00:00, 362.24it/s]\n",
      "157it [00:00, 848.02it/s]                        \n"
     ]
    },
    {
     "name": "stdout",
     "output_type": "stream",
     "text": [
      "Epoch: 46\n"
     ]
    },
    {
     "name": "stderr",
     "output_type": "stream",
     "text": [
      "100%|██████████| 625/625 [00:01<00:00, 385.71it/s]\n",
      "157it [00:00, 943.81it/s]                         \n"
     ]
    },
    {
     "name": "stdout",
     "output_type": "stream",
     "text": [
      "Epoch: 47\n"
     ]
    },
    {
     "name": "stderr",
     "output_type": "stream",
     "text": [
      "100%|██████████| 625/625 [00:01<00:00, 314.60it/s]\n",
      "157it [00:00, 919.51it/s]                        \n"
     ]
    },
    {
     "name": "stdout",
     "output_type": "stream",
     "text": [
      "Epoch: 48\n"
     ]
    },
    {
     "name": "stderr",
     "output_type": "stream",
     "text": [
      "100%|██████████| 625/625 [00:01<00:00, 403.20it/s]\n",
      "157it [00:00, 877.66it/s]                        \n"
     ]
    },
    {
     "name": "stdout",
     "output_type": "stream",
     "text": [
      "Epoch: 49\n"
     ]
    },
    {
     "name": "stderr",
     "output_type": "stream",
     "text": [
      "100%|██████████| 625/625 [00:01<00:00, 356.79it/s]\n",
      "157it [00:00, 827.57it/s]                        \n"
     ]
    },
    {
     "name": "stdout",
     "output_type": "stream",
     "text": [
      "Epoch: 50\n"
     ]
    },
    {
     "name": "stderr",
     "output_type": "stream",
     "text": [
      "100%|██████████| 625/625 [00:01<00:00, 313.88it/s]\n",
      "157it [00:00, 852.75it/s]                        \n"
     ]
    },
    {
     "name": "stdout",
     "output_type": "stream",
     "text": [
      "Epoch: 51\n"
     ]
    },
    {
     "name": "stderr",
     "output_type": "stream",
     "text": [
      "100%|██████████| 625/625 [00:01<00:00, 335.12it/s]\n",
      "157it [00:00, 833.84it/s]                        \n"
     ]
    },
    {
     "name": "stdout",
     "output_type": "stream",
     "text": [
      "Epoch: 52\n"
     ]
    },
    {
     "name": "stderr",
     "output_type": "stream",
     "text": [
      "100%|██████████| 625/625 [00:01<00:00, 371.29it/s]\n",
      "157it [00:00, 847.93it/s]                        \n"
     ]
    },
    {
     "name": "stdout",
     "output_type": "stream",
     "text": [
      "Epoch: 53\n"
     ]
    },
    {
     "name": "stderr",
     "output_type": "stream",
     "text": [
      "100%|██████████| 625/625 [00:01<00:00, 366.82it/s]\n",
      "157it [00:00, 1073.43it/s]                       \n"
     ]
    },
    {
     "name": "stdout",
     "output_type": "stream",
     "text": [
      "Epoch: 54\n"
     ]
    },
    {
     "name": "stderr",
     "output_type": "stream",
     "text": [
      "100%|██████████| 625/625 [00:01<00:00, 396.76it/s]\n",
      "157it [00:00, 878.32it/s]                        \n"
     ]
    },
    {
     "name": "stdout",
     "output_type": "stream",
     "text": [
      "Epoch: 55\n"
     ]
    },
    {
     "name": "stderr",
     "output_type": "stream",
     "text": [
      "100%|██████████| 625/625 [00:01<00:00, 370.30it/s]\n",
      "157it [00:00, 889.16it/s]                        \n"
     ]
    },
    {
     "name": "stdout",
     "output_type": "stream",
     "text": [
      "Epoch: 56\n"
     ]
    },
    {
     "name": "stderr",
     "output_type": "stream",
     "text": [
      "100%|██████████| 625/625 [00:01<00:00, 364.50it/s]\n",
      "157it [00:00, 885.01it/s]                        \n"
     ]
    },
    {
     "name": "stdout",
     "output_type": "stream",
     "text": [
      "Epoch: 57\n"
     ]
    },
    {
     "name": "stderr",
     "output_type": "stream",
     "text": [
      "100%|██████████| 625/625 [00:01<00:00, 339.26it/s]\n",
      "157it [00:00, 915.17it/s]                        \n"
     ]
    },
    {
     "name": "stdout",
     "output_type": "stream",
     "text": [
      "Epoch: 58\n"
     ]
    },
    {
     "name": "stderr",
     "output_type": "stream",
     "text": [
      "100%|██████████| 625/625 [00:01<00:00, 350.23it/s]\n",
      "157it [00:00, 884.45it/s]                        \n"
     ]
    },
    {
     "name": "stdout",
     "output_type": "stream",
     "text": [
      "Epoch: 59\n"
     ]
    },
    {
     "name": "stderr",
     "output_type": "stream",
     "text": [
      "100%|██████████| 625/625 [00:01<00:00, 359.00it/s]\n",
      "157it [00:00, 884.16it/s]                        \n"
     ]
    },
    {
     "name": "stdout",
     "output_type": "stream",
     "text": [
      "Epoch: 60\n"
     ]
    },
    {
     "name": "stderr",
     "output_type": "stream",
     "text": [
      "100%|██████████| 625/625 [00:01<00:00, 366.21it/s]\n",
      "157it [00:00, 846.30it/s]                        \n"
     ]
    },
    {
     "name": "stdout",
     "output_type": "stream",
     "text": [
      "Epoch: 61\n"
     ]
    },
    {
     "name": "stderr",
     "output_type": "stream",
     "text": [
      "100%|██████████| 625/625 [00:01<00:00, 339.10it/s]\n",
      "157it [00:00, 848.54it/s]                        \n"
     ]
    },
    {
     "name": "stdout",
     "output_type": "stream",
     "text": [
      "Epoch 61 - Train Loss: 0.3885057308912277, Val Loss: 0.6387989584069985\n",
      "Train Acc: 0.83485, Val Acc: 0.6962\n",
      "Train F1: 0.8330553449583018, Val F1: 0.6960176105663398\n",
      "Epoch: 62\n"
     ]
    },
    {
     "name": "stderr",
     "output_type": "stream",
     "text": [
      "100%|██████████| 625/625 [00:01<00:00, 373.64it/s]\n",
      "157it [00:00, 849.46it/s]                        \n"
     ]
    },
    {
     "name": "stdout",
     "output_type": "stream",
     "text": [
      "Epoch: 63\n"
     ]
    },
    {
     "name": "stderr",
     "output_type": "stream",
     "text": [
      "100%|██████████| 625/625 [00:01<00:00, 342.30it/s]\n",
      "157it [00:00, 847.57it/s]                        \n"
     ]
    },
    {
     "name": "stdout",
     "output_type": "stream",
     "text": [
      "Epoch: 64\n"
     ]
    },
    {
     "name": "stderr",
     "output_type": "stream",
     "text": [
      "100%|██████████| 625/625 [00:01<00:00, 347.82it/s]\n",
      "157it [00:00, 830.11it/s]                        \n"
     ]
    },
    {
     "name": "stdout",
     "output_type": "stream",
     "text": [
      "Epoch: 65\n"
     ]
    },
    {
     "name": "stderr",
     "output_type": "stream",
     "text": [
      "100%|██████████| 625/625 [00:01<00:00, 346.75it/s]\n",
      "157it [00:00, 936.89it/s]                        \n"
     ]
    },
    {
     "name": "stdout",
     "output_type": "stream",
     "text": [
      "Epoch: 66\n"
     ]
    },
    {
     "name": "stderr",
     "output_type": "stream",
     "text": [
      "100%|██████████| 625/625 [00:01<00:00, 362.14it/s]\n",
      "157it [00:00, 1021.97it/s]                         \n"
     ]
    },
    {
     "name": "stdout",
     "output_type": "stream",
     "text": [
      "Epoch: 67\n"
     ]
    },
    {
     "name": "stderr",
     "output_type": "stream",
     "text": [
      "100%|██████████| 625/625 [00:01<00:00, 382.64it/s]\n",
      "157it [00:00, 851.80it/s]                        \n"
     ]
    },
    {
     "name": "stdout",
     "output_type": "stream",
     "text": [
      "Epoch: 68\n"
     ]
    },
    {
     "name": "stderr",
     "output_type": "stream",
     "text": [
      "100%|██████████| 625/625 [00:01<00:00, 379.38it/s]\n",
      "157it [00:00, 991.59it/s]                          \n"
     ]
    },
    {
     "name": "stdout",
     "output_type": "stream",
     "text": [
      "Epoch: 69\n"
     ]
    },
    {
     "name": "stderr",
     "output_type": "stream",
     "text": [
      "100%|██████████| 625/625 [00:01<00:00, 394.66it/s]\n",
      "157it [00:00, 1105.47it/s]                         \n"
     ]
    },
    {
     "name": "stdout",
     "output_type": "stream",
     "text": [
      "Epoch: 70\n"
     ]
    },
    {
     "name": "stderr",
     "output_type": "stream",
     "text": [
      "100%|██████████| 625/625 [00:01<00:00, 359.29it/s]\n",
      "157it [00:00, 874.29it/s]                        \n"
     ]
    },
    {
     "name": "stdout",
     "output_type": "stream",
     "text": [
      "Epoch: 71\n"
     ]
    },
    {
     "name": "stderr",
     "output_type": "stream",
     "text": [
      "100%|██████████| 625/625 [00:01<00:00, 390.99it/s]\n",
      "157it [00:00, 877.58it/s]                        \n"
     ]
    },
    {
     "name": "stdout",
     "output_type": "stream",
     "text": [
      "Epoch: 72\n"
     ]
    },
    {
     "name": "stderr",
     "output_type": "stream",
     "text": [
      "100%|██████████| 625/625 [00:01<00:00, 363.25it/s]\n",
      "157it [00:00, 991.17it/s]                          \n"
     ]
    },
    {
     "name": "stdout",
     "output_type": "stream",
     "text": [
      "Epoch: 73\n"
     ]
    },
    {
     "name": "stderr",
     "output_type": "stream",
     "text": [
      "100%|██████████| 625/625 [00:01<00:00, 369.03it/s]\n",
      "157it [00:00, 875.47it/s]                        \n"
     ]
    },
    {
     "name": "stdout",
     "output_type": "stream",
     "text": [
      "Epoch: 74\n"
     ]
    },
    {
     "name": "stderr",
     "output_type": "stream",
     "text": [
      "100%|██████████| 625/625 [00:01<00:00, 364.25it/s]\n",
      "157it [00:00, 868.54it/s]                        \n"
     ]
    },
    {
     "name": "stdout",
     "output_type": "stream",
     "text": [
      "Epoch: 75\n"
     ]
    },
    {
     "name": "stderr",
     "output_type": "stream",
     "text": [
      "100%|██████████| 625/625 [00:01<00:00, 409.29it/s]\n",
      "157it [00:00, 1119.77it/s]                         \n"
     ]
    },
    {
     "name": "stdout",
     "output_type": "stream",
     "text": [
      "Epoch: 76\n"
     ]
    },
    {
     "name": "stderr",
     "output_type": "stream",
     "text": [
      "100%|██████████| 625/625 [00:01<00:00, 362.31it/s]\n",
      "157it [00:00, 949.40it/s]                         \n"
     ]
    },
    {
     "name": "stdout",
     "output_type": "stream",
     "text": [
      "Epoch: 77\n"
     ]
    },
    {
     "name": "stderr",
     "output_type": "stream",
     "text": [
      "100%|██████████| 625/625 [00:01<00:00, 362.89it/s]\n",
      "157it [00:00, 849.46it/s]                        \n"
     ]
    },
    {
     "name": "stdout",
     "output_type": "stream",
     "text": [
      "Epoch: 78\n"
     ]
    },
    {
     "name": "stderr",
     "output_type": "stream",
     "text": [
      "100%|██████████| 625/625 [00:01<00:00, 385.10it/s]\n",
      "157it [00:00, 1038.19it/s]                         \n"
     ]
    },
    {
     "name": "stdout",
     "output_type": "stream",
     "text": [
      "Epoch: 79\n"
     ]
    },
    {
     "name": "stderr",
     "output_type": "stream",
     "text": [
      "100%|██████████| 625/625 [00:01<00:00, 349.33it/s]\n",
      "157it [00:00, 837.74it/s]                        \n"
     ]
    },
    {
     "name": "stdout",
     "output_type": "stream",
     "text": [
      "Epoch: 80\n"
     ]
    },
    {
     "name": "stderr",
     "output_type": "stream",
     "text": [
      "100%|██████████| 625/625 [00:01<00:00, 328.00it/s]\n",
      "157it [00:00, 867.65it/s]                        \n"
     ]
    },
    {
     "name": "stdout",
     "output_type": "stream",
     "text": [
      "Epoch: 81\n"
     ]
    },
    {
     "name": "stderr",
     "output_type": "stream",
     "text": [
      "100%|██████████| 625/625 [00:01<00:00, 384.70it/s]\n",
      "157it [00:00, 928.51it/s]                        \n"
     ]
    },
    {
     "name": "stdout",
     "output_type": "stream",
     "text": [
      "Epoch 81 - Train Loss: 0.3510304193019867, Val Loss: 0.6486899518431761\n",
      "Train Acc: 0.8551, Val Acc: 0.7022\n",
      "Train F1: 0.8537840565085774, Val F1: 0.700583149004625\n",
      "Epoch: 82\n"
     ]
    },
    {
     "name": "stderr",
     "output_type": "stream",
     "text": [
      "100%|██████████| 625/625 [00:01<00:00, 359.31it/s]\n",
      "157it [00:00, 852.55it/s]                        \n"
     ]
    },
    {
     "name": "stdout",
     "output_type": "stream",
     "text": [
      "Epoch: 83\n"
     ]
    },
    {
     "name": "stderr",
     "output_type": "stream",
     "text": [
      "100%|██████████| 625/625 [00:01<00:00, 372.18it/s]\n",
      "157it [00:00, 838.34it/s]                        \n"
     ]
    },
    {
     "name": "stdout",
     "output_type": "stream",
     "text": [
      "Epoch: 84\n"
     ]
    },
    {
     "name": "stderr",
     "output_type": "stream",
     "text": [
      "100%|██████████| 625/625 [00:01<00:00, 381.90it/s]\n",
      "157it [00:00, 928.41it/s]                          \n"
     ]
    },
    {
     "name": "stdout",
     "output_type": "stream",
     "text": [
      "Epoch: 85\n"
     ]
    },
    {
     "name": "stderr",
     "output_type": "stream",
     "text": [
      "100%|██████████| 625/625 [00:02<00:00, 310.79it/s]\n",
      "157it [00:00, 865.97it/s]                        \n"
     ]
    },
    {
     "name": "stdout",
     "output_type": "stream",
     "text": [
      "Epoch: 86\n"
     ]
    },
    {
     "name": "stderr",
     "output_type": "stream",
     "text": [
      "100%|██████████| 625/625 [00:01<00:00, 342.96it/s]\n",
      "157it [00:00, 827.76it/s]                        \n"
     ]
    },
    {
     "name": "stdout",
     "output_type": "stream",
     "text": [
      "Epoch: 87\n"
     ]
    },
    {
     "name": "stderr",
     "output_type": "stream",
     "text": [
      "100%|██████████| 625/625 [00:01<00:00, 328.18it/s]\n",
      "157it [00:00, 875.75it/s]                        \n"
     ]
    },
    {
     "name": "stdout",
     "output_type": "stream",
     "text": [
      "Epoch: 88\n"
     ]
    },
    {
     "name": "stderr",
     "output_type": "stream",
     "text": [
      "100%|██████████| 625/625 [00:01<00:00, 363.71it/s]\n",
      "157it [00:00, 849.19it/s]                        \n"
     ]
    },
    {
     "name": "stdout",
     "output_type": "stream",
     "text": [
      "Epoch: 89\n"
     ]
    },
    {
     "name": "stderr",
     "output_type": "stream",
     "text": [
      "100%|██████████| 625/625 [00:01<00:00, 371.91it/s]\n",
      "157it [00:00, 1011.77it/s]                         \n"
     ]
    },
    {
     "name": "stdout",
     "output_type": "stream",
     "text": [
      "Epoch: 90\n"
     ]
    },
    {
     "name": "stderr",
     "output_type": "stream",
     "text": [
      "100%|██████████| 625/625 [00:01<00:00, 404.66it/s]\n",
      "157it [00:00, 877.98it/s]                        \n"
     ]
    },
    {
     "name": "stdout",
     "output_type": "stream",
     "text": [
      "Epoch: 91\n"
     ]
    },
    {
     "name": "stderr",
     "output_type": "stream",
     "text": [
      "100%|██████████| 625/625 [00:01<00:00, 377.60it/s]\n",
      "157it [00:00, 960.21it/s]                        \n"
     ]
    },
    {
     "name": "stdout",
     "output_type": "stream",
     "text": [
      "Epoch: 92\n"
     ]
    },
    {
     "name": "stderr",
     "output_type": "stream",
     "text": [
      "100%|██████████| 625/625 [00:01<00:00, 374.48it/s]\n",
      "157it [00:00, 1014.96it/s]                       \n"
     ]
    },
    {
     "name": "stdout",
     "output_type": "stream",
     "text": [
      "Epoch: 93\n"
     ]
    },
    {
     "name": "stderr",
     "output_type": "stream",
     "text": [
      "100%|██████████| 625/625 [00:01<00:00, 347.03it/s]\n",
      "157it [00:00, 846.83it/s]                        \n"
     ]
    },
    {
     "name": "stdout",
     "output_type": "stream",
     "text": [
      "Epoch: 94\n"
     ]
    },
    {
     "name": "stderr",
     "output_type": "stream",
     "text": [
      "100%|██████████| 625/625 [00:01<00:00, 327.29it/s]\n",
      "157it [00:00, 877.04it/s]                        \n"
     ]
    },
    {
     "name": "stdout",
     "output_type": "stream",
     "text": [
      "Epoch: 95\n"
     ]
    },
    {
     "name": "stderr",
     "output_type": "stream",
     "text": [
      "100%|██████████| 625/625 [00:01<00:00, 323.40it/s]\n",
      "157it [00:00, 1002.46it/s]                         \n"
     ]
    },
    {
     "name": "stdout",
     "output_type": "stream",
     "text": [
      "Epoch: 96\n"
     ]
    },
    {
     "name": "stderr",
     "output_type": "stream",
     "text": [
      "100%|██████████| 625/625 [00:01<00:00, 368.29it/s]\n",
      "157it [00:00, 848.11it/s]                        \n"
     ]
    },
    {
     "name": "stdout",
     "output_type": "stream",
     "text": [
      "Epoch: 97\n"
     ]
    },
    {
     "name": "stderr",
     "output_type": "stream",
     "text": [
      "100%|██████████| 625/625 [00:01<00:00, 362.02it/s]\n",
      "157it [00:00, 1025.43it/s]                         \n"
     ]
    },
    {
     "name": "stdout",
     "output_type": "stream",
     "text": [
      "Epoch: 98\n"
     ]
    },
    {
     "name": "stderr",
     "output_type": "stream",
     "text": [
      "100%|██████████| 625/625 [00:01<00:00, 372.13it/s]\n",
      "157it [00:00, 1383.17it/s]                         \n"
     ]
    },
    {
     "name": "stdout",
     "output_type": "stream",
     "text": [
      "Epoch: 99\n"
     ]
    },
    {
     "name": "stderr",
     "output_type": "stream",
     "text": [
      "100%|██████████| 625/625 [00:01<00:00, 320.78it/s]\n",
      "157it [00:00, 946.40it/s]                          \n"
     ]
    },
    {
     "name": "stdout",
     "output_type": "stream",
     "text": [
      "Epoch: 100\n"
     ]
    },
    {
     "name": "stderr",
     "output_type": "stream",
     "text": [
      "100%|██████████| 625/625 [00:01<00:00, 372.95it/s]\n",
      "157it [00:00, 850.84it/s]                        \n"
     ]
    }
   ],
   "source": [
    "history = {\n",
    "    'train_losses': [],\n",
    "    'val_losses': [],\n",
    "    'train_acc': [],\n",
    "    'val_acc': [],\n",
    "    'train_f1': [],\n",
    "    'val_f1': []\n",
    "}\n",
    "\n",
    "optimizer = torch.optim.Adam(bert.parameters(), lr=LEARNING_RATE)\n",
    "\n",
    "for i in range(NUM_EPOCHS):\n",
    "    print(f'Epoch: {i + 1}')\n",
    "    train_loss = 0.0\n",
    "    train_preds = []\n",
    "    train_labels = []\n",
    "\n",
    "    bert.train()\n",
    "    total = dataloader.steps('train')\n",
    "    the_split = dataloader.get_split('train')\n",
    "    for step, batch in enumerate(tqdm(the_split, total=total)):\n",
    "        logits = bert(batch['input_ids'].to(device)) # (B, Seq_Len, 2)\n",
    "        probs = F.softmax(logits[:, 0, :], dim=-1).cpu()\n",
    "        pred = torch.argmax(probs, dim=-1) # (B)\n",
    "        train_preds += pred.detach().tolist()\n",
    "        train_labels += [l.item() for l in batch['label_ids']]\n",
    "        input_logits = logits[:, 0, :].cpu()  # (B, 2)\n",
    "        target_labels = batch['label_ids'].cpu()  # (B)\n",
    "        loss = F.cross_entropy(input_logits, target_labels)\n",
    "        optimizer.zero_grad()\n",
    "        loss.backward()\n",
    "        optimizer.step()\n",
    "        train_loss += loss.item()\n",
    "\n",
    "    val_loss = 0.0\n",
    "    val_preds = []\n",
    "    val_labels = []\n",
    "\n",
    "    bert.eval()\n",
    "    for step, batch in enumerate(tqdm(dataloader.get_split('val'), total=dataloader.steps('val'))):\n",
    "        logits = bert(batch['input_ids'].to(device))\n",
    "        probs = F.softmax(logits[:, 0, :], dim=-1).cpu()\n",
    "        pred = torch.argmax(probs, dim=-1) # (B)\n",
    "        val_preds += pred.detach().tolist()\n",
    "        val_labels += [l.item() for l in batch['label_ids']]\n",
    "        loss = F.cross_entropy(logits[:, 0, :].cpu(), batch['label_ids'])\n",
    "        val_loss += loss.item()\n",
    "\n",
    "    history['train_losses'].append(train_loss)\n",
    "    history['val_losses'].append(val_loss)\n",
    "    history['train_acc'].append(accuracy_score(train_labels, train_preds))\n",
    "    history['val_acc'].append(accuracy_score(val_labels, val_preds))\n",
    "    history['train_f1'].append(f1_score(train_labels, train_preds))\n",
    "    history['val_f1'].append(f1_score(val_labels, val_preds))\n",
    "\n",
    "    if i % 20 == 0:\n",
    "        print(f'Epoch {i + 1} - Train Loss: {train_loss / dataloader.steps(\"train\")}, Val Loss: {val_loss / dataloader.steps(\"val\")}')\n",
    "        print(f'Train Acc: {accuracy_score(train_labels, train_preds)}, Val Acc: {accuracy_score(val_labels, val_preds)}')\n",
    "        print(f'Train F1: {f1_score(train_labels, train_preds)}, Val F1: {f1_score(val_labels, val_preds)}')"
   ]
  },
  {
   "cell_type": "code",
   "execution_count": 9,
   "id": "e89bafee",
   "metadata": {},
   "outputs": [
    {
     "data": {
      "text/html": [
       "<pre style=\"white-space:pre;overflow-x:auto;line-height:normal;font-family:Menlo,'DejaVu Sans Mono',consolas,'Courier New',monospace\"></pre>\n"
      ],
      "text/plain": []
     },
     "metadata": {},
     "output_type": "display_data"
    },
    {
     "data": {
      "image/png": "[encoded data removed]",
      "text/plain": [
       "\u001b[1m<\u001b[0m\u001b[1;95mFigure\u001b[0m\u001b[39m size 180\u001b[0m\u001b[1;36m0x600\u001b[0m\u001b[39m with \u001b[0m\u001b[1;36m3\u001b[0m\u001b[39m Axes\u001b[0m\u001b[1m>\u001b[0m"
      ]
     },
     "metadata": {},
     "output_type": "display_data"
    }
   ],
   "source": [
    "plot_results(history)"
   ]
  },
  {
   "cell_type": "code",
   "execution_count": 11,
   "id": "ad20095f",
   "metadata": {},
   "outputs": [
    {
     "name": "stderr",
     "output_type": "stream",
     "text": [
      "782it [00:00, 2023.46it/s]                         "
     ]
    },
    {
     "name": "stdout",
     "output_type": "stream",
     "text": [
      "\n",
      "Test loss: 0.6752439363169151\n",
      "Test acc: 0.69492\n",
      "Test f1: 0.7041160724677038\n"
     ]
    },
    {
     "name": "stderr",
     "output_type": "stream",
     "text": [
      "\n"
     ]
    }
   ],
   "source": [
    "\n",
    "test_loss = 0.0\n",
    "test_preds = []\n",
    "test_labels = []\n",
    "\n",
    "bert.eval()\n",
    "for step, batch in enumerate(tqdm(dataloader.get_split('test'), total=dataloader.steps('test'))):\n",
    "    logits = bert(batch['input_ids'].to(device))\n",
    "    probs = F.softmax(logits[:, 0, :], dim=-1).cpu()\n",
    "    pred = torch.argmax(probs, dim=-1) # (B)\n",
    "    test_preds += pred.detach().tolist()\n",
    "    test_labels += [l.item() for l in batch['label_ids']]\n",
    "    loss = F.cross_entropy(logits[:, 0, :].cpu(), batch['label_ids'])\n",
    "    test_loss += loss.item()\n",
    "\n",
    "print()\n",
    "print(f'Test loss: {test_loss / dataloader.steps(\"test\")}')\n",
    "print(f'Test acc: {accuracy_score(test_labels, test_preds)}')\n",
    "print(f'Test f1: {f1_score(test_labels, test_preds)}')"
   ]
  },
  {
   "cell_type": "code",
   "execution_count": 12,
   "id": "aad29144",
   "metadata": {},
   "outputs": [
    {
     "name": "stdout",
     "output_type": "stream",
     "text": [
      "Model saved to: /home/wukong/.microbert_model/microbert_classification.pth\n",
      "Tokenizer vocabulary saved to: /home/wukong/.microbert_model/tokenizer_vocab.json\n",
      "Training history saved to: /home/wukong/.microbert_model/training_history.json\n",
      "Model configuration saved to: /home/wukong/.microbert_model/model_config.json\n",
      "\n",
      "All files saved to directory: /home/wukong/.microbert_model\n"
     ]
    }
   ],
   "source": [
    "# Save trained model to home directory\n",
    "home_dir = os.path.expanduser('~')\n",
    "model_save_dir = os.path.join(home_dir, '.microbert_model')\n",
    "\n",
    "# Prepare configuration\n",
    "config = {\n",
    "    'vocab_size': len(tokenizer.vocab),\n",
    "    'n_layers': n_layers,\n",
    "    'n_heads': n_heads,\n",
    "    'max_seq_len': MAX_SEQ_LEN,\n",
    "    'n_classes': 2,\n",
    "    'batch_size': BATCH_SIZE,\n",
    "    'learning_rate': LEARNING_RATE,\n",
    "    'num_epochs': NUM_EPOCHS\n",
    "}\n",
    "\n",
    "# Use utility function to save model\n",
    "save_model(bert, tokenizer, history, config, model_save_dir)"
   ]
  },
  {
   "cell_type": "code",
   "execution_count": 13,
   "id": "72f23f24",
   "metadata": {},
   "outputs": [
    {
     "name": "stdout",
     "output_type": "stream",
     "text": [
      "Loading model...\n",
      "Model loaded from /home/wukong/.microbert_model\n",
      "Model configuration: {'vocab_size': 251641, 'n_layers': 1, 'n_heads': 1, 'max_seq_len': 128, 'n_classes': 2, 'batch_size': 32, 'learning_rate': 0.0001, 'num_epochs': 100}\n",
      "\n",
      "=== Sentiment Analysis Results ===\n",
      "1. Text: This movie is absolutely fantastic! I loved every minute of it.\n",
      "   Prediction: Negative (Confidence: 0.934)\n",
      "\n",
      "2. Text: Terrible film, waste of time and money. Don't watch it.\n",
      "   Prediction: Negative (Confidence: 0.934)\n",
      "\n",
      "3. Text: The acting was okay but the plot was confusing.\n",
      "   Prediction: Negative (Confidence: 0.934)\n",
      "\n",
      "4. Text: Amazing performance by all actors, highly recommended!\n",
      "   Prediction: Negative (Confidence: 0.934)\n",
      "\n",
      "5. Text: Boring and predictable, I fell asleep halfway through.\n",
      "   Prediction: Negative (Confidence: 0.934)\n",
      "\n"
     ]
    }
   ],
   "source": [
    "import os\n",
    "from microbert.utils import load_model, predict_sentiment\n",
    "\n",
    "def predict():\n",
    "    # Model file path\n",
    "    home_dir = os.path.expanduser('~')\n",
    "    model_dir = os.path.join(home_dir, '.microbert_model')\n",
    "    \n",
    "    # Check if model files exist\n",
    "    if not os.path.exists(model_dir):\n",
    "        print(f\"Error: Model directory does not exist: {model_dir}\")\n",
    "        print(\"Please run train.py first to train the model\")\n",
    "        return\n",
    "    \n",
    "    # Load model\n",
    "    print(\"Loading model...\")\n",
    "    model, tokenizer, config = load_model(model_dir)\n",
    "    print(f\"Model configuration: {config}\")\n",
    "    \n",
    "    # Test texts\n",
    "    test_texts = [\n",
    "        \"This movie is absolutely fantastic! I loved every minute of it.\",\n",
    "        \"Terrible film, waste of time and money. Don't watch it.\",\n",
    "        \"The acting was okay but the plot was confusing.\",\n",
    "        \"Amazing performance by all actors, highly recommended!\",\n",
    "        \"Boring and predictable, I fell asleep halfway through.\"\n",
    "    ]\n",
    "    \n",
    "    print(\"\\n=== Sentiment Analysis Results ===\")\n",
    "    for i, text in enumerate(test_texts, 1):\n",
    "        prediction, confidence = predict_sentiment(model, tokenizer, text)\n",
    "        sentiment = \"Positive\" if prediction == 1 else \"Negative\"\n",
    "        print(f\"{i}. Text: {text}\")\n",
    "        print(f\"   Prediction: {sentiment} (Confidence: {confidence:.3f})\")\n",
    "        print()\n",
    "\n",
    "predict()"
   ]
  }
 ],
 "metadata": {
  "kernelspec": {
   "display_name": "genaibook",
   "language": "python",
   "name": "python3"
  },
  "language_info": {
   "codemirror_mode": {
    "name": "ipython",
    "version": 3
   },
   "file_extension": ".py",
   "mimetype": "text/x-python",
   "name": "python",
   "nbconvert_exporter": "python",
   "pygments_lexer": "ipython3",
   "version": "3.10.13"
  }
 },
 "nbformat": 4,
 "nbformat_minor": 5
}
